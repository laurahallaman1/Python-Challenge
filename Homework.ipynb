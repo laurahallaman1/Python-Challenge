{
  "nbformat": 4,
  "nbformat_minor": 0,
  "metadata": {
    "kernelspec": {
      "display_name": "Python 3",
      "language": "python",
      "name": "python3"
    },
    "colab": {
      "name": "Homework.ipynb",
      "provenance": [],
      "collapsed_sections": []
    }
  },
  "cells": [
    {
      "cell_type": "code",
      "metadata": {
        "id": "oihxP4daU5vr",
        "colab_type": "code",
        "colab": {}
      },
      "source": [
        "#Import Dependencies\n",
        "import csv\n",
        "import os"
      ],
      "execution_count": 0,
      "outputs": []
    },
    {
      "cell_type": "code",
      "metadata": {
        "id": "PMYU2KGfU5vz",
        "colab_type": "code",
        "colab": {
          "base_uri": "https://localhost:8080/",
          "height": 34
        },
        "outputId": "86bbc004-3055-4a80-80c1-30a4289aa075"
      },
      "source": [
        "#Load CSV\n",
        "%cd /content/\n",
        "budget_data = os.path.join(\"budget_data.csv\")\n"
      ],
      "execution_count": 19,
      "outputs": [
        {
          "output_type": "stream",
          "text": [
            "/content\n"
          ],
          "name": "stdout"
        }
      ]
    },
    {
      "cell_type": "code",
      "metadata": {
        "id": "xPd2YnuDU5v3",
        "colab_type": "code",
        "colab": {}
      },
      "source": [
        "#Create lists to store variables \n",
        "total_months = 0\n",
        "monthly_changes = []\n",
        "total_net = 0\n",
        "net_change_total = []\n",
        "greatest_increase = [\"\", 0]\n",
        "greatest_decrease = [\"\", 9999999999]"
      ],
      "execution_count": 0,
      "outputs": []
    },
    {
      "cell_type": "code",
      "metadata": {
        "id": "sOhuUkxMU5v7",
        "colab_type": "code",
        "colab": {}
      },
      "source": [
        "#Open and read df \n",
        "with open(budget_data) as financials:\n",
        "    reader = csv.reader(financials)\n",
        "\n",
        "    header = next(reader)\n",
        "\n",
        "    first_row = next(reader)\n",
        "    total_months = total_months + 1\n",
        "    total_net = total_net + int(first_row[1])\n",
        "    prev_net = int(first_row[1])\n",
        "\n",
        "    for row in reader:\n",
        "\n",
        "        # Track the total\n",
        "        total_months = total_months + 1\n",
        "        total_net = total_net + int(row[1])\n",
        "\n",
        "        # Track the net change\n",
        "        net_change = int(row[1]) - prev_net\n",
        "        prev_net = int(row[1])\n",
        "        net_change_total = net_change_total + [net_change]\n",
        "        monthly_changes = monthly_changes + [row[0]]\n",
        "\n",
        "        # Calculate the greatest increase\n",
        "        if net_change > greatest_increase[1]:\n",
        "            greatest_increase[0] = row[0]\n",
        "            greatest_increase[1] = net_change\n",
        "\n",
        "        # Calculate the greatest decrease\n",
        "        if net_change < greatest_decrease[1]:\n",
        "            greatest_decrease[0] = row[0]\n",
        "            greatest_decrease[1] = net_change\n",
        "\n",
        "# Calculate the Average Net Change\n",
        "net_monthly_avg = sum(net_change_total) / len(net_change_total)"
      ],
      "execution_count": 0,
      "outputs": []
    },
    {
      "cell_type": "code",
      "metadata": {
        "id": "qC98tfYZU5wB",
        "colab_type": "code",
        "colab": {}
      },
      "source": [
        "# Compile Summary \n",
        "output = (\n",
        "    f\"\\nFinancial Analysis\\n\"\n",
        "    f\"----------------------------\\n\"\n",
        "    f\"Total Months: {total_months}\\n\"\n",
        "    f\"Total: ${total_net}\\n\"\n",
        "    f\"Average  Change: ${net_monthly_avg:.2f}\\n\"\n",
        "    f\"Greatest Increase in Profits: {greatest_increase[0]} (${greatest_increase[1]})\\n\"\n",
        "    f\"Greatest Decrease in Profits: {greatest_decrease[0]} (${greatest_decrease[1]})\\n\")\n"
      ],
      "execution_count": 0,
      "outputs": []
    },
    {
      "cell_type": "code",
      "metadata": {
        "id": "C_dloTSBU5wF",
        "colab_type": "code",
        "colab": {
          "base_uri": "https://localhost:8080/",
          "height": 170
        },
        "outputId": "bf0a4d70-5495-462a-ceea-eae0276f0e2c"
      },
      "source": [
        "# Print the output\n",
        "print(output)\n",
        "\n"
      ],
      "execution_count": 24,
      "outputs": [
        {
          "output_type": "stream",
          "text": [
            "\n",
            "Financial Analysis\n",
            "----------------------------\n",
            "Total Months: 86\n",
            "Total: $38382578\n",
            "Average  Change: $-2315.12\n",
            "Greatest Increase in Profits: Feb-2012 ($1926159)\n",
            "Greatest Decrease in Profits: Sep-2013 ($-2196167)\n",
            "\n"
          ],
          "name": "stdout"
        }
      ]
    },
    {
      "cell_type": "code",
      "metadata": {
        "id": "P8dOYsuGU5wI",
        "colab_type": "code",
        "colab": {}
      },
      "source": [
        ""
      ],
      "execution_count": 0,
      "outputs": []
    }
  ]
}