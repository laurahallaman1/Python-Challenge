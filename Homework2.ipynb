{
  "nbformat": 4,
  "nbformat_minor": 0,
  "metadata": {
    "colab": {
      "name": "Homework2.ipynb",
      "provenance": [],
      "collapsed_sections": [],
      "authorship_tag": "ABX9TyPDD9nDj5JAwTKWL93xLGmN"
    },
    "kernelspec": {
      "name": "python3",
      "display_name": "Python 3"
    }
  },
  "cells": [
    {
      "cell_type": "code",
      "metadata": {
        "id": "LaZEgfYyk7QF",
        "colab_type": "code",
        "colab": {}
      },
      "source": [
        "#Import Dependencies\n",
        "import csv\n",
        "import os"
      ],
      "execution_count": 0,
      "outputs": []
    },
    {
      "cell_type": "code",
      "metadata": {
        "id": "xhhA6rzHlCCI",
        "colab_type": "code",
        "colab": {
          "base_uri": "https://localhost:8080/",
          "height": 51
        },
        "outputId": "b4ec8b4e-da7b-4faa-8fb7-1330d05e4cdb"
      },
      "source": [
        "#Load CSV\n",
        "%cd /content/\n",
        "election_data = os.path.join(\"election_data.csv\")\n",
        "print(election_data)\n"
      ],
      "execution_count": 7,
      "outputs": [
        {
          "output_type": "stream",
          "text": [
            "/content\n",
            "election_data.csv\n"
          ],
          "name": "stdout"
        }
      ]
    },
    {
      "cell_type": "code",
      "metadata": {
        "id": "w-Hf-5ihlKew",
        "colab_type": "code",
        "colab": {
          "base_uri": "https://localhost:8080/",
          "height": 34
        },
        "outputId": "19c9c7dd-6a78-4e71-f49d-9eea47be11e5"
      },
      "source": [
        "\n",
        "\n",
        "with open(election_data) as election_results:\n",
        "    # CSV reader specifies delimiter and variable that holds contents\n",
        "    csvreader = csv.reader(election_results, delimiter=',')\n",
        "\n",
        "    print(csvreader)\n",
        "\n",
        "    # Read the header row first (skip this step if there is now header)\n",
        "    csv_header = next(csvreader)\n",
        "\n",
        "    data={}\n",
        "\n",
        "    for row in csvreader:\n",
        "        voter=row[0]\n",
        "        candidate=row[2]\n",
        "        data.update({voter:candidate})\n"
      ],
      "execution_count": 8,
      "outputs": [
        {
          "output_type": "stream",
          "text": [
            "<_csv.reader object at 0x7f31d53cd828>\n"
          ],
          "name": "stdout"
        }
      ]
    },
    {
      "cell_type": "code",
      "metadata": {
        "id": "eeoDI4zRn14B",
        "colab_type": "code",
        "colab": {
          "base_uri": "https://localhost:8080/",
          "height": 238
        },
        "outputId": "14570bd7-9bfc-4b58-8b99-6e04c57518e3"
      },
      "source": [
        "total_votes=len(data)\n",
        "candidates=set(list(data.values()))\n",
        "candidate_count={}\n",
        "for i in candidates:\n",
        "    count=sum(value == i for value in data.values())\n",
        "    candidate_count.update({i:count})\n",
        "\n",
        "sorted_candidate=sorted(candidate_count, key=candidate_count.__getitem__)\n",
        "print(f'''\n",
        "    #   Election Results\n",
        "    #   -------------------------\n",
        "    #   Total Votes: {total_votes}\n",
        "    #   -------------------------''')\n",
        "\n",
        "for i in sorted_candidate:\n",
        "    print(f'    #   {i}: {candidate_count[i]/total_votes*100}% ({candidate_count[i]})')\n",
        "\n",
        "print(f'''\n",
        "    #   -------------------------\n",
        "    #   Winner: {sorted_candidate[-1]}''')"
      ],
      "execution_count": 10,
      "outputs": [
        {
          "output_type": "stream",
          "text": [
            "\n",
            "    #   Election Results\n",
            "    #   -------------------------\n",
            "    #   Total Votes: 1083163\n",
            "    #   -------------------------\n",
            "    #   L: 9.23222081995046e-05% (1)\n",
            "    #   O'Tooley: 3.010165598344847% (32605)\n",
            "    #   Li: 13.963272379134073% (151245)\n",
            "    #   Correy: 19.9401198157618% (215984)\n",
            "    #   Khan: 63.086349884551076% (683328)\n",
            "\n",
            "    #   -------------------------\n",
            "    #   Winner: Khan\n"
          ],
          "name": "stdout"
        }
      ]
    },
    {
      "cell_type": "code",
      "metadata": {
        "id": "wX9QaTSrlcSY",
        "colab_type": "code",
        "colab": {}
      },
      "source": [
        "\n"
      ],
      "execution_count": 0,
      "outputs": []
    }
  ]
}